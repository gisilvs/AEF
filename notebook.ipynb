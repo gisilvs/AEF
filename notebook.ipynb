{
 "cells": [
  {
   "cell_type": "markdown",
   "id": "aeda7e3f",
   "metadata": {},
   "source": [
    "### Imports"
   ]
  },
  {
   "cell_type": "code",
   "execution_count": 23,
   "id": "6e75702a",
   "metadata": {},
   "outputs": [],
   "source": [
    "import matplotlib.pyplot as plt\n",
    "import numpy as np\n",
    "\n",
    "import torch\n",
    "import torchvision\n",
    "import torchvision.transforms as transforms\n",
    "\n",
    "from models.autoencoder import ConvolutionalEncoderSmall, IndependentVarianceDecoderSmall\n",
    "from models.nae_external import ExternalLatentAutoEncoder\n",
    "from bijectors.masked_autoregressive_transform import get_masked_autoregressive_transform\n",
    "\n",
    "from util import dequantize\n",
    "\n",
    "from nflows.transforms import InverseTransform, AffineTransform, IdentityTransform\n",
    "\n",
    "from bijectors.actnorm import ActNorm\n",
    "from bijectors.sigmoid import Sigmoid"
   ]
  },
  {
   "cell_type": "markdown",
   "id": "266c8de4",
   "metadata": {},
   "source": [
    "### Data"
   ]
  },
  {
   "cell_type": "code",
   "execution_count": 8,
   "id": "16bb668b",
   "metadata": {},
   "outputs": [
    {
     "name": "stdout",
     "output_type": "stream",
     "text": [
      "Downloading http://yann.lecun.com/exdb/mnist/train-images-idx3-ubyte.gz\n",
      "Downloading http://yann.lecun.com/exdb/mnist/train-images-idx3-ubyte.gz to ./data\\MNIST\\raw\\train-images-idx3-ubyte.gz\n"
     ]
    },
    {
     "name": "stderr",
     "output_type": "stream",
     "text": [
      "9913344it [00:00, 12134524.27it/s]                                                                                     \n"
     ]
    },
    {
     "name": "stdout",
     "output_type": "stream",
     "text": [
      "Extracting ./data\\MNIST\\raw\\train-images-idx3-ubyte.gz to ./data\\MNIST\\raw\n",
      "\n",
      "Downloading http://yann.lecun.com/exdb/mnist/train-labels-idx1-ubyte.gz\n",
      "Downloading http://yann.lecun.com/exdb/mnist/train-labels-idx1-ubyte.gz to ./data\\MNIST\\raw\\train-labels-idx1-ubyte.gz\n"
     ]
    },
    {
     "name": "stderr",
     "output_type": "stream",
     "text": [
      "29696it [00:00, ?it/s]                                                                                                 \n"
     ]
    },
    {
     "name": "stdout",
     "output_type": "stream",
     "text": [
      "Extracting ./data\\MNIST\\raw\\train-labels-idx1-ubyte.gz to ./data\\MNIST\\raw\n",
      "\n",
      "Downloading http://yann.lecun.com/exdb/mnist/t10k-images-idx3-ubyte.gz\n",
      "Downloading http://yann.lecun.com/exdb/mnist/t10k-images-idx3-ubyte.gz to ./data\\MNIST\\raw\\t10k-images-idx3-ubyte.gz\n"
     ]
    },
    {
     "name": "stderr",
     "output_type": "stream",
     "text": [
      "1649664it [00:00, 13477038.28it/s]                                                                                     \n"
     ]
    },
    {
     "name": "stdout",
     "output_type": "stream",
     "text": [
      "Extracting ./data\\MNIST\\raw\\t10k-images-idx3-ubyte.gz to ./data\\MNIST\\raw\n",
      "\n",
      "Downloading http://yann.lecun.com/exdb/mnist/t10k-labels-idx1-ubyte.gz\n",
      "Downloading http://yann.lecun.com/exdb/mnist/t10k-labels-idx1-ubyte.gz to ./data\\MNIST\\raw\\t10k-labels-idx1-ubyte.gz\n"
     ]
    },
    {
     "name": "stderr",
     "output_type": "stream",
     "text": [
      "5120it [00:00, ?it/s]                                                                                                  \n"
     ]
    },
    {
     "name": "stdout",
     "output_type": "stream",
     "text": [
      "Extracting ./data\\MNIST\\raw\\t10k-labels-idx1-ubyte.gz to ./data\\MNIST\\raw\n",
      "\n"
     ]
    }
   ],
   "source": [
    "transform = transforms.ToTensor()\n",
    "\n",
    "batch_size = 32\n",
    "\n",
    "trainset = torchvision.datasets.MNIST(root='./data', train=True,\n",
    "                                        download=True, transform=transform)\n",
    "trainloader = torch.utils.data.DataLoader(trainset, batch_size=batch_size,\n",
    "                                          shuffle=True, num_workers=2)\n",
    "\n",
    "testset = torchvision.datasets.MNIST(root='./data', train=False,\n",
    "                                       download=True, transform=transform)\n",
    "testloader = torch.utils.data.DataLoader(testset, batch_size=batch_size,\n",
    "                                         shuffle=False, num_workers=2)"
   ]
  },
  {
   "cell_type": "markdown",
   "id": "90af571d",
   "metadata": {},
   "source": [
    "### Network\n",
    "To define our model we require an encoder and decoder, and two normalizing flows. We choose a simple convolutional encoder which outputs a mean and standard deviation, a simple convolutional decoder with a learnable variance, and two masked autoregressive flows."
   ]
  },
  {
   "cell_type": "code",
   "execution_count": 35,
   "id": "ced13f09",
   "metadata": {},
   "outputs": [],
   "source": [
    "use_gpu = True\n",
    "device = torch.device(\"cuda:0\" if use_gpu and torch.cuda.is_available() else \"cpu\")\n",
    "\n",
    "hidden_channels = 64\n",
    "img_shape = [1, 28, 28]\n",
    "alpha = 1e-6\n",
    "latent_dims = 2\n",
    "\n",
    "encoder = ConvolutionalEncoderSmall(hidden_channels, img_shape, latent_dims)\n",
    "decoder = IndependentVarianceDecoderSmall(hidden_channels, img_shape, latent_dims)\n",
    "\n",
    "flow_features = 256\n",
    "num_layers = 4\n",
    "core_encoder = get_masked_autoregressive_transform(features=latent_dims, hidden_features=flow_features, num_layers=num_layers,\n",
    "                                                   num_blocks_per_layer=2, act_norm_between_layers=True)\n",
    "\n",
    "prior_flow = get_masked_autoregressive_transform(features=latent_dims, hidden_features=flow_features, num_layers=num_layers,\n",
    "                                                   num_blocks_per_layer=2, act_norm_between_layers=True)\n",
    "\n",
    "#preprocessing_layers = [InverseTransform(AffineTransform(alpha, 1 - 2 * alpha)), Sigmoid(),\n",
    "#                            ActNorm(img_shape[0])]\n",
    "preprocessing_layers = []\n",
    "\n",
    "aef = ExternalLatentAutoEncoder(encoder, decoder, core_encoder, prior_flow, preprocessing_layers=preprocessing_layers)\n",
    "aef = aef.to(device)"
   ]
  },
  {
   "cell_type": "markdown",
   "id": "9306af91",
   "metadata": {},
   "source": [
    "### Training"
   ]
  },
  {
   "cell_type": "code",
   "execution_count": null,
   "id": "b2bc344b",
   "metadata": {},
   "outputs": [],
   "source": [
    "\n",
    "optimizer = torch.optim.Adam(params=aef.parameters(), lr=1e-3)\n",
    "\n",
    "n_iterations = 1000\n",
    "stop = False\n",
    "\n",
    "losses = []\n",
    "\n",
    "stop = False\n",
    "n_iters_done = 0\n",
    "while not stop:\n",
    "    for image_batch, _ in trainloader:\n",
    "        image_batch = dequantize(image_batch)\n",
    "        image_batch = image_batch.to(device)\n",
    "\n",
    "        loss = torch.mean(aef.loss_function(image_batch))\n",
    "        losses.append(loss.item())\n",
    "        optimizer.zero_grad()\n",
    "        loss.backward()\n",
    "        \n",
    "        optimizer.step()\n",
    "        \n",
    "        n_iters_done += 1\n",
    "        if n_iters_done >= n_iterations:\n",
    "            stop = True\n",
    "            break\n",
    "plt.plot(range(n_iterations), losses)"
   ]
  },
  {
   "cell_type": "code",
   "execution_count": null,
   "id": "455da5e1",
   "metadata": {},
   "outputs": [],
   "source": [
    "aef.eval()\n",
    "test_losses = np.zeros((len(testloader)))\n",
    "with torch.no_grad():\n",
    "    for batch_idx, test_batch, _ in enumerate(test_dataloader):\n",
    "        test_batch = dequantize(test_batch)\n",
    "        test_batch = test_batch.to(device)\n",
    "        loss = torch.mean(aef.loss_function(test_batch))\n",
    "        test_losses[batch_idx] = loss.item()\n"
   ]
  },
  {
   "cell_type": "code",
   "execution_count": null,
   "id": "662c3df2",
   "metadata": {},
   "outputs": [],
   "source": []
  }
 ],
 "metadata": {
  "kernelspec": {
   "display_name": "Python 3 (ipykernel)",
   "language": "python",
   "name": "python3"
  },
  "language_info": {
   "codemirror_mode": {
    "name": "ipython",
    "version": 3
   },
   "file_extension": ".py",
   "mimetype": "text/x-python",
   "name": "python",
   "nbconvert_exporter": "python",
   "pygments_lexer": "ipython3",
   "version": "3.9.7"
  }
 },
 "nbformat": 4,
 "nbformat_minor": 5
}
