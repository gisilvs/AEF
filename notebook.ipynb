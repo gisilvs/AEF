{
 "cells": [
  {
   "cell_type": "markdown",
   "id": "69646959",
   "metadata": {
    "pycharm": {
     "name": "#%% md\n"
    }
   },
   "source": [
    "### Imports"
   ]
  },
  {
   "cell_type": "code",
   "execution_count": 1,
   "id": "1fc7f3a2",
   "metadata": {
    "pycharm": {
     "name": "#%%\n"
    }
   },
   "outputs": [],
   "source": [
    "import matplotlib.pyplot as plt\n",
    "import numpy as np\n",
    "\n",
    "import torch\n",
    "import torchvision\n",
    "import torchvision.transforms as transforms\n",
    "\n",
    "from models.aef_linear import LinearAEF\n",
    "from models.autoencoder import ConvolutionalEncoderSmall, IndependentVarianceDecoderSmall\n",
    "from models.aef_internal import InternalAEF\n",
    "from bijectors.masked_autoregressive_transform import get_masked_autoregressive_transform\n",
    "\n",
    "from util import dequantize\n",
    "\n",
    "from nflows.transforms import InverseTransform, AffineTransform\n",
    "from bijectors.actnorm import ActNorm\n",
    "from bijectors.sigmoid import Sigmoid\n",
    "\n",
    "from visualize import plot_samples"
   ]
  },
  {
   "cell_type": "markdown",
   "id": "ecacc974",
   "metadata": {
    "pycharm": {
     "name": "#%% md\n"
    }
   },
   "source": [
    "### Data"
   ]
  },
  {
   "cell_type": "code",
   "execution_count": 2,
   "id": "7c27f556",
   "metadata": {
    "pycharm": {
     "name": "#%%\n"
    }
   },
   "outputs": [],
   "source": [
    "transform = transforms.ToTensor()\n",
    "\n",
    "batch_size = 32\n",
    "\n",
    "trainset = torchvision.datasets.MNIST(root='./data', train=True,\n",
    "                                        download=True, transform=transform)\n",
    "trainloader = torch.utils.data.DataLoader(trainset, batch_size=batch_size,\n",
    "                                          shuffle=True, num_workers=2)\n",
    "\n",
    "testset = torchvision.datasets.MNIST(root='./data', train=False,\n",
    "                                       download=True, transform=transform)\n",
    "testloader = torch.utils.data.DataLoader(testset, batch_size=batch_size,\n",
    "                                         shuffle=False, num_workers=2)"
   ]
  },
  {
   "cell_type": "markdown",
   "id": "859624f7",
   "metadata": {
    "pycharm": {
     "name": "#%% md\n"
    }
   },
   "source": [
    "### Network\n",
    "To define our model we require an encoder and decoder, and two normalizing flows. We choose a simple convolutional encoder which outputs a mean and standard deviation, a simple convolutional decoder with a learnable variance, and two masked autoregressive flows.\n",
    "For AEF-linear we do not require a mask, but the downside is that the likelihood will be of an extended ambient space. An importance sampling algorithm to approximate the likelihood of just the datapoint can be found in the code. For the internal version of AEF, for which we do require a mask, see the end of the notebook."
   ]
  },
  {
   "cell_type": "code",
   "execution_count": 3,
   "id": "53f6f249",
   "metadata": {
    "pycharm": {
     "name": "#%%\n"
    }
   },
   "outputs": [],
   "source": [
    "use_gpu = True\n",
    "device = torch.device(\"cuda:0\" if use_gpu and torch.cuda.is_available() else \"cpu\")\n",
    "\n",
    "hidden_channels = 64\n",
    "img_shape = [1, 28, 28]\n",
    "alpha = 1e-6\n",
    "latent_dims = 2\n",
    "\n",
    "encoder = ConvolutionalEncoderSmall(hidden_channels, img_shape, latent_dims)\n",
    "decoder = IndependentVarianceDecoderSmall(hidden_channels, img_shape, latent_dims)\n",
    "\n",
    "flow_features = 256\n",
    "num_layers = 4\n",
    "core_encoder = get_masked_autoregressive_transform(features=latent_dims, hidden_features=flow_features, num_layers=num_layers,\n",
    "                                                   num_blocks_per_layer=2, act_norm_between_layers=True)\n",
    "\n",
    "prior_flow = get_masked_autoregressive_transform(features=latent_dims, hidden_features=flow_features, num_layers=num_layers,\n",
    "                                                   num_blocks_per_layer=2, act_norm_between_layers=True)\n",
    "\n",
    "preprocessing_layers = [InverseTransform(AffineTransform(alpha, 1 - 2 * alpha)), Sigmoid(),\n",
    "                           ActNorm(img_shape[0])]\n",
    "\n",
    "aef = LinearAEF(encoder, decoder, core_encoder, prior_flow, preprocessing_layers=preprocessing_layers) # AEF linear requires no mask\n",
    "aef = aef.to(device)"
   ]
  },
  {
   "cell_type": "markdown",
   "id": "f82dff04",
   "metadata": {
    "pycharm": {
     "name": "#%% md\n"
    }
   },
   "source": [
    "### Training"
   ]
  },
  {
   "cell_type": "code",
   "execution_count": 4,
   "id": "1b864ed0",
   "metadata": {
    "pycharm": {
     "name": "#%%\n"
    }
   },
   "outputs": [
    {
     "name": "stdout",
     "output_type": "stream",
     "text": [
      "Training for 5000 iterations...\n"
     ]
    },
    {
     "data": {
      "text/plain": "[<matplotlib.lines.Line2D at 0x21498f88940>]"
     },
     "execution_count": 4,
     "metadata": {},
     "output_type": "execute_result"
    },
    {
     "data": {
      "text/plain": "<Figure size 432x288 with 1 Axes>",
      "image/png": "[encoded data removed]"
     },
     "metadata": {
      "needs_background": "light"
     },
     "output_type": "display_data"
    }
   ],
   "source": [
    "optimizer = torch.optim.Adam(params=aef.parameters(), lr=1e-3)\n",
    "\n",
    "n_iterations = 5000\n",
    "stop = False\n",
    "\n",
    "losses = []\n",
    "\n",
    "stop = False\n",
    "n_iters_done = 0\n",
    "print(f'Training for {n_iterations} iterations...')\n",
    "while not stop:\n",
    "    for image_batch, _ in trainloader:\n",
    "        image_batch = dequantize(image_batch)\n",
    "        image_batch = image_batch.to(device)\n",
    "\n",
    "        loss = torch.mean(aef.loss_function(image_batch))\n",
    "        losses.append(loss.item())\n",
    "        optimizer.zero_grad()\n",
    "        loss.backward()\n",
    "        \n",
    "        optimizer.step()\n",
    "        \n",
    "        n_iters_done += 1\n",
    "        if n_iters_done >= n_iterations:\n",
    "            stop = True\n",
    "            break\n",
    "plt.plot(range(n_iterations), losses)"
   ]
  },
  {
   "cell_type": "code",
   "execution_count": 5,
   "id": "3f06b73a",
   "metadata": {
    "pycharm": {
     "name": "#%%\n"
    }
   },
   "outputs": [
    {
     "name": "stdout",
     "output_type": "stream",
     "text": [
      "Test log-likelihood: -3010.1556314584163\n"
     ]
    }
   ],
   "source": [
    "aef.eval()\n",
    "test_losses = np.zeros((len(testloader)))\n",
    "\n",
    "with torch.no_grad():\n",
    "    for batch_idx, (test_batch, _) in enumerate(testloader):\n",
    "        test_batch = dequantize(test_batch)\n",
    "        test_batch = test_batch.to(device)\n",
    "        loss = torch.mean(aef.loss_function(test_batch))\n",
    "        test_losses[batch_idx] = loss.item()\n",
    "\n",
    "print(f'Test log-likelihood: {test_losses.mean()}')"
   ]
  },
  {
   "cell_type": "markdown",
   "source": [
    "### Visualizations"
   ],
   "metadata": {
    "collapsed": false,
    "pycharm": {
     "name": "#%% md\n"
    }
   },
   "execution_count": 14
  },
  {
   "cell_type": "code",
   "execution_count": 6,
   "outputs": [
    {
     "data": {
      "text/plain": "<Figure size 720x720 with 1 Axes>",
      "image/png": "[encoded data removed]"
     },
     "metadata": {
      "needs_background": "light"
     },
     "output_type": "display_data"
    }
   ],
   "source": [
    "fig = plot_samples(aef, img_shape, n_rows=4, n_cols=4)\n",
    "plt.show()"
   ],
   "metadata": {
    "collapsed": false,
    "pycharm": {
     "name": "#%%\n"
    }
   }
  },
  {
   "cell_type": "markdown",
   "source": [
    "### AEF Internal\n",
    "We need to create a mask, that will define which pixels are used as 'core' pixels. For simplicity, we choose the first two pixels of the top row of the image. However, there are no restrictions to this mask, as long as the number of masked values is equal to the core size."
   ],
   "metadata": {
    "collapsed": false,
    "pycharm": {
     "name": "#%% md\n"
    }
   }
  },
  {
   "cell_type": "code",
   "execution_count": 7,
   "outputs": [],
   "source": [
    "mask = torch.zeros(img_shape)\n",
    "mask[0, 0, :2] = 1\n",
    "\n",
    "aef = InternalAEF(encoder, decoder, core_encoder, prior_flow, mask, preprocessing_layers)"
   ],
   "metadata": {
    "collapsed": false,
    "pycharm": {
     "name": "#%%\n"
    }
   }
  },
  {
   "cell_type": "code",
   "execution_count": 7,
   "outputs": [],
   "source": [],
   "metadata": {
    "collapsed": false,
    "pycharm": {
     "name": "#%%\n"
    }
   }
  }
 ],
 "metadata": {
  "kernelspec": {
   "display_name": "Python 3 (ipykernel)",
   "language": "python",
   "name": "python3"
  },
  "language_info": {
   "codemirror_mode": {
    "name": "ipython",
    "version": 3
   },
   "file_extension": ".py",
   "mimetype": "text/x-python",
   "name": "python",
   "nbconvert_exporter": "python",
   "pygments_lexer": "ipython3",
   "version": "3.9.7"
  }
 },
 "nbformat": 4,
 "nbformat_minor": 5
}